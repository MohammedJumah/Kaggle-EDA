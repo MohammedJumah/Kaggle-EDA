{
 "cells": [
  {
   "cell_type": "code",
   "execution_count": 1,
   "id": "5603e402",
   "metadata": {
    "_cell_guid": "b1076dfc-b9ad-4769-8c92-a6c4dae69d19",
    "_uuid": "8f2839f25d086af736a60e9eeb907d3b93b6e0e5",
    "execution": {
     "iopub.execute_input": "2022-05-19T14:37:27.245816Z",
     "iopub.status.busy": "2022-05-19T14:37:27.245151Z",
     "iopub.status.idle": "2022-05-19T14:37:27.251601Z",
     "shell.execute_reply": "2022-05-19T14:37:27.250805Z"
    },
    "papermill": {
     "duration": 0.030439,
     "end_time": "2022-05-19T14:37:27.254117",
     "exception": false,
     "start_time": "2022-05-19T14:37:27.223678",
     "status": "completed"
    },
    "tags": []
   },
   "outputs": [],
   "source": [
    "# This Python 3 environment comes with many helpful analytics libraries installed\n",
    "# It is defined by the kaggle/python Docker image: https://github.com/kaggle/docker-python\n",
    "# For example, here's several helpful packages to load\n",
    "\n",
    "#import numpy as np # linear algebra\n",
    "#import pandas as pd # data processing, CSV file I/O (e.g. pd.read_csv)\n",
    "\n",
    "# Input data files are available in the read-only \"../input/\" directory\n",
    "# For example, running this (by clicking run or pressing Shift+Enter) will list all files under the input directory\n",
    "\n",
    "#import os\n",
    "#for dirname, _, filenames in os.walk('/kaggle/input'):\n",
    "#    for filename in filenames:\n",
    "#        print(os.path.join(dirname, filename))\n",
    "#\n",
    "# You can write up to 20GB to the current directory (/kaggle/working/) that gets preserved as output when you create a version using \"Save & Run All\" \n",
    "# You can also write temporary files to /kaggle/temp/, but they won't be saved outside of the current session"
   ]
  },
  {
   "cell_type": "markdown",
   "id": "71bbb1c4",
   "metadata": {
    "papermill": {
     "duration": 0.017495,
     "end_time": "2022-05-19T14:37:27.289198",
     "exception": false,
     "start_time": "2022-05-19T14:37:27.271703",
     "status": "completed"
    },
    "tags": []
   },
   "source": [
    "# Install fred-api"
   ]
  },
  {
   "cell_type": "code",
   "execution_count": 2,
   "id": "ee8daafd",
   "metadata": {
    "execution": {
     "iopub.execute_input": "2022-05-19T14:37:27.325952Z",
     "iopub.status.busy": "2022-05-19T14:37:27.325566Z",
     "iopub.status.idle": "2022-05-19T14:37:40.452701Z",
     "shell.execute_reply": "2022-05-19T14:37:40.451539Z"
    },
    "papermill": {
     "duration": 13.148993,
     "end_time": "2022-05-19T14:37:40.455718",
     "exception": false,
     "start_time": "2022-05-19T14:37:27.306725",
     "status": "completed"
    },
    "tags": []
   },
   "outputs": [
    {
     "name": "stdout",
     "output_type": "stream",
     "text": [
      "\u001b[33mWARNING: Running pip as the 'root' user can result in broken permissions and conflicting behaviour with the system package manager. It is recommended to use a virtual environment instead: https://pip.pypa.io/warnings/venv\u001b[0m\u001b[33m\r\n",
      "\u001b[0m"
     ]
    }
   ],
   "source": [
    "!pip install fredapi > /dev/null"
   ]
  },
  {
   "cell_type": "code",
   "execution_count": 3,
   "id": "b509d40d",
   "metadata": {
    "execution": {
     "iopub.execute_input": "2022-05-19T14:37:40.495097Z",
     "iopub.status.busy": "2022-05-19T14:37:40.494789Z",
     "iopub.status.idle": "2022-05-19T14:37:42.423867Z",
     "shell.execute_reply": "2022-05-19T14:37:42.422703Z"
    },
    "papermill": {
     "duration": 1.952429,
     "end_time": "2022-05-19T14:37:42.427155",
     "exception": false,
     "start_time": "2022-05-19T14:37:40.474726",
     "status": "completed"
    },
    "tags": []
   },
   "outputs": [],
   "source": [
    "import pandas as pd\n",
    "import numpy as np\n",
    "import matplotlib.pyplot as plt \n",
    "import plotly.express as px\n",
    "\n",
    "plt.style.use('fivethirtyeight')\n",
    "pd.set_option('max_columns', 500)\n",
    "color_pal = plt.rcParams[\"axes.prop_cycle\"].by_key()[\"color\"]\n",
    "\n",
    "from fredapi import Fred\n",
    "\n",
    "fred_key = 'put_your_key_here'\n",
    "\n",
    "from kaggle_secrets import UserSecretsClient\n",
    "user_secrets = UserSecretsClient()\n",
    "fred_key = user_secrets.get_secret(\"fred-api\")\n"
   ]
  },
  {
   "cell_type": "markdown",
   "id": "9838e690",
   "metadata": {
    "papermill": {
     "duration": 0.018,
     "end_time": "2022-05-19T14:37:42.463411",
     "exception": false,
     "start_time": "2022-05-19T14:37:42.445411",
     "status": "completed"
    },
    "tags": []
   },
   "source": [
    "# 1.Create The Fred Object"
   ]
  },
  {
   "cell_type": "code",
   "execution_count": 4,
   "id": "ca765ab4",
   "metadata": {
    "execution": {
     "iopub.execute_input": "2022-05-19T14:37:42.500963Z",
     "iopub.status.busy": "2022-05-19T14:37:42.500273Z",
     "iopub.status.idle": "2022-05-19T14:37:42.503930Z",
     "shell.execute_reply": "2022-05-19T14:37:42.503339Z"
    },
    "papermill": {
     "duration": 0.02464,
     "end_time": "2022-05-19T14:37:42.505717",
     "exception": false,
     "start_time": "2022-05-19T14:37:42.481077",
     "status": "completed"
    },
    "tags": []
   },
   "outputs": [],
   "source": [
    "fred = Fred(api_key=fred_key)"
   ]
  },
  {
   "cell_type": "markdown",
   "id": "77e812db",
   "metadata": {
    "papermill": {
     "duration": 0.017294,
     "end_time": "2022-05-19T14:37:42.540474",
     "exception": false,
     "start_time": "2022-05-19T14:37:42.523180",
     "status": "completed"
    },
    "tags": []
   },
   "source": [
    "# 2.Search for economic data"
   ]
  },
  {
   "cell_type": "code",
   "execution_count": 5,
   "id": "bd059654",
   "metadata": {
    "execution": {
     "iopub.execute_input": "2022-05-19T14:37:42.578114Z",
     "iopub.status.busy": "2022-05-19T14:37:42.577567Z",
     "iopub.status.idle": "2022-05-19T14:37:44.798171Z",
     "shell.execute_reply": "2022-05-19T14:37:44.797129Z"
    },
    "papermill": {
     "duration": 2.24239,
     "end_time": "2022-05-19T14:37:44.800584",
     "exception": false,
     "start_time": "2022-05-19T14:37:42.558194",
     "status": "completed"
    },
    "tags": []
   },
   "outputs": [],
   "source": [
    "sp_search = fred.search('S&P', order_by='popularity')"
   ]
  },
  {
   "cell_type": "code",
   "execution_count": 6,
   "id": "c65d0748",
   "metadata": {
    "execution": {
     "iopub.execute_input": "2022-05-19T14:37:44.838536Z",
     "iopub.status.busy": "2022-05-19T14:37:44.838229Z",
     "iopub.status.idle": "2022-05-19T14:37:44.864070Z",
     "shell.execute_reply": "2022-05-19T14:37:44.863140Z"
    },
    "papermill": {
     "duration": 0.048155,
     "end_time": "2022-05-19T14:37:44.867063",
     "exception": false,
     "start_time": "2022-05-19T14:37:44.818908",
     "status": "completed"
    },
    "tags": []
   },
   "outputs": [
    {
     "data": {
      "text/html": [
       "<div>\n",
       "<style scoped>\n",
       "    .dataframe tbody tr th:only-of-type {\n",
       "        vertical-align: middle;\n",
       "    }\n",
       "\n",
       "    .dataframe tbody tr th {\n",
       "        vertical-align: top;\n",
       "    }\n",
       "\n",
       "    .dataframe thead th {\n",
       "        text-align: right;\n",
       "    }\n",
       "</style>\n",
       "<table border=\"1\" class=\"dataframe\">\n",
       "  <thead>\n",
       "    <tr style=\"text-align: right;\">\n",
       "      <th></th>\n",
       "      <th>id</th>\n",
       "      <th>realtime_start</th>\n",
       "      <th>realtime_end</th>\n",
       "      <th>title</th>\n",
       "      <th>observation_start</th>\n",
       "      <th>observation_end</th>\n",
       "      <th>frequency</th>\n",
       "      <th>frequency_short</th>\n",
       "      <th>units</th>\n",
       "      <th>units_short</th>\n",
       "      <th>seasonal_adjustment</th>\n",
       "      <th>seasonal_adjustment_short</th>\n",
       "      <th>last_updated</th>\n",
       "      <th>popularity</th>\n",
       "      <th>notes</th>\n",
       "    </tr>\n",
       "    <tr>\n",
       "      <th>series id</th>\n",
       "      <th></th>\n",
       "      <th></th>\n",
       "      <th></th>\n",
       "      <th></th>\n",
       "      <th></th>\n",
       "      <th></th>\n",
       "      <th></th>\n",
       "      <th></th>\n",
       "      <th></th>\n",
       "      <th></th>\n",
       "      <th></th>\n",
       "      <th></th>\n",
       "      <th></th>\n",
       "      <th></th>\n",
       "      <th></th>\n",
       "    </tr>\n",
       "  </thead>\n",
       "  <tbody>\n",
       "    <tr>\n",
       "      <th>BAMLH0A0HYM2</th>\n",
       "      <td>BAMLH0A0HYM2</td>\n",
       "      <td>2022-05-19</td>\n",
       "      <td>2022-05-19</td>\n",
       "      <td>ICE BofA US High Yield Index Option-Adjusted S...</td>\n",
       "      <td>1996-12-31</td>\n",
       "      <td>2022-05-18</td>\n",
       "      <td>Daily, Close</td>\n",
       "      <td>D</td>\n",
       "      <td>Percent</td>\n",
       "      <td>%</td>\n",
       "      <td>Not Seasonally Adjusted</td>\n",
       "      <td>NSA</td>\n",
       "      <td>2022-05-19 08:34:03-05:00</td>\n",
       "      <td>95</td>\n",
       "      <td>The ICE BofA Option-Adjusted Spreads (OASs) ar...</td>\n",
       "    </tr>\n",
       "    <tr>\n",
       "      <th>CSUSHPINSA</th>\n",
       "      <td>CSUSHPINSA</td>\n",
       "      <td>2022-05-19</td>\n",
       "      <td>2022-05-19</td>\n",
       "      <td>S&amp;P/Case-Shiller U.S. National Home Price Index</td>\n",
       "      <td>1987-01-01</td>\n",
       "      <td>2022-02-01</td>\n",
       "      <td>Monthly</td>\n",
       "      <td>M</td>\n",
       "      <td>Index Jan 2000=100</td>\n",
       "      <td>Index Jan 2000=100</td>\n",
       "      <td>Not Seasonally Adjusted</td>\n",
       "      <td>NSA</td>\n",
       "      <td>2022-04-26 08:04:02-05:00</td>\n",
       "      <td>90</td>\n",
       "      <td>For more information regarding the index, plea...</td>\n",
       "    </tr>\n",
       "    <tr>\n",
       "      <th>BAMLH0A0HYM2EY</th>\n",
       "      <td>BAMLH0A0HYM2EY</td>\n",
       "      <td>2022-05-19</td>\n",
       "      <td>2022-05-19</td>\n",
       "      <td>ICE BofA US High Yield Index Effective Yield</td>\n",
       "      <td>1996-12-31</td>\n",
       "      <td>2022-05-18</td>\n",
       "      <td>Daily, Close</td>\n",
       "      <td>D</td>\n",
       "      <td>Percent</td>\n",
       "      <td>%</td>\n",
       "      <td>Not Seasonally Adjusted</td>\n",
       "      <td>NSA</td>\n",
       "      <td>2022-05-19 08:34:09-05:00</td>\n",
       "      <td>85</td>\n",
       "      <td>This data represents the effective yield of th...</td>\n",
       "    </tr>\n",
       "    <tr>\n",
       "      <th>SP500</th>\n",
       "      <td>SP500</td>\n",
       "      <td>2022-05-19</td>\n",
       "      <td>2022-05-19</td>\n",
       "      <td>S&amp;P 500</td>\n",
       "      <td>2012-05-21</td>\n",
       "      <td>2022-05-18</td>\n",
       "      <td>Daily, Close</td>\n",
       "      <td>D</td>\n",
       "      <td>Index</td>\n",
       "      <td>Index</td>\n",
       "      <td>Not Seasonally Adjusted</td>\n",
       "      <td>NSA</td>\n",
       "      <td>2022-05-18 19:10:52-05:00</td>\n",
       "      <td>84</td>\n",
       "      <td>The observations for the S&amp;P 500 represent the...</td>\n",
       "    </tr>\n",
       "    <tr>\n",
       "      <th>MEHOINUSA672N</th>\n",
       "      <td>MEHOINUSA672N</td>\n",
       "      <td>2022-05-19</td>\n",
       "      <td>2022-05-19</td>\n",
       "      <td>Real Median Household Income in the United States</td>\n",
       "      <td>1984-01-01</td>\n",
       "      <td>2020-01-01</td>\n",
       "      <td>Annual</td>\n",
       "      <td>A</td>\n",
       "      <td>2020 CPI-U-RS Adjusted Dollars</td>\n",
       "      <td>2020 CPI-U-RS Adjusted $</td>\n",
       "      <td>Not Seasonally Adjusted</td>\n",
       "      <td>NSA</td>\n",
       "      <td>2021-09-15 08:45:01-05:00</td>\n",
       "      <td>83</td>\n",
       "      <td>Household data are collected as of March.  As ...</td>\n",
       "    </tr>\n",
       "  </tbody>\n",
       "</table>\n",
       "</div>"
      ],
      "text/plain": [
       "                            id realtime_start realtime_end  \\\n",
       "series id                                                    \n",
       "BAMLH0A0HYM2      BAMLH0A0HYM2     2022-05-19   2022-05-19   \n",
       "CSUSHPINSA          CSUSHPINSA     2022-05-19   2022-05-19   \n",
       "BAMLH0A0HYM2EY  BAMLH0A0HYM2EY     2022-05-19   2022-05-19   \n",
       "SP500                    SP500     2022-05-19   2022-05-19   \n",
       "MEHOINUSA672N    MEHOINUSA672N     2022-05-19   2022-05-19   \n",
       "\n",
       "                                                            title  \\\n",
       "series id                                                           \n",
       "BAMLH0A0HYM2    ICE BofA US High Yield Index Option-Adjusted S...   \n",
       "CSUSHPINSA        S&P/Case-Shiller U.S. National Home Price Index   \n",
       "BAMLH0A0HYM2EY       ICE BofA US High Yield Index Effective Yield   \n",
       "SP500                                                     S&P 500   \n",
       "MEHOINUSA672N   Real Median Household Income in the United States   \n",
       "\n",
       "               observation_start observation_end     frequency  \\\n",
       "series id                                                        \n",
       "BAMLH0A0HYM2          1996-12-31      2022-05-18  Daily, Close   \n",
       "CSUSHPINSA            1987-01-01      2022-02-01       Monthly   \n",
       "BAMLH0A0HYM2EY        1996-12-31      2022-05-18  Daily, Close   \n",
       "SP500                 2012-05-21      2022-05-18  Daily, Close   \n",
       "MEHOINUSA672N         1984-01-01      2020-01-01        Annual   \n",
       "\n",
       "               frequency_short                           units  \\\n",
       "series id                                                        \n",
       "BAMLH0A0HYM2                 D                         Percent   \n",
       "CSUSHPINSA                   M              Index Jan 2000=100   \n",
       "BAMLH0A0HYM2EY               D                         Percent   \n",
       "SP500                        D                           Index   \n",
       "MEHOINUSA672N                A  2020 CPI-U-RS Adjusted Dollars   \n",
       "\n",
       "                             units_short      seasonal_adjustment  \\\n",
       "series id                                                           \n",
       "BAMLH0A0HYM2                           %  Not Seasonally Adjusted   \n",
       "CSUSHPINSA            Index Jan 2000=100  Not Seasonally Adjusted   \n",
       "BAMLH0A0HYM2EY                         %  Not Seasonally Adjusted   \n",
       "SP500                              Index  Not Seasonally Adjusted   \n",
       "MEHOINUSA672N   2020 CPI-U-RS Adjusted $  Not Seasonally Adjusted   \n",
       "\n",
       "               seasonal_adjustment_short               last_updated  \\\n",
       "series id                                                             \n",
       "BAMLH0A0HYM2                         NSA  2022-05-19 08:34:03-05:00   \n",
       "CSUSHPINSA                           NSA  2022-04-26 08:04:02-05:00   \n",
       "BAMLH0A0HYM2EY                       NSA  2022-05-19 08:34:09-05:00   \n",
       "SP500                                NSA  2022-05-18 19:10:52-05:00   \n",
       "MEHOINUSA672N                        NSA  2021-09-15 08:45:01-05:00   \n",
       "\n",
       "               popularity                                              notes  \n",
       "series id                                                                     \n",
       "BAMLH0A0HYM2           95  The ICE BofA Option-Adjusted Spreads (OASs) ar...  \n",
       "CSUSHPINSA             90  For more information regarding the index, plea...  \n",
       "BAMLH0A0HYM2EY         85  This data represents the effective yield of th...  \n",
       "SP500                  84  The observations for the S&P 500 represent the...  \n",
       "MEHOINUSA672N          83  Household data are collected as of March.  As ...  "
      ]
     },
     "execution_count": 6,
     "metadata": {},
     "output_type": "execute_result"
    }
   ],
   "source": [
    "sp_search.head()"
   ]
  },
  {
   "cell_type": "markdown",
   "id": "5e5578f0",
   "metadata": {
    "papermill": {
     "duration": 0.018972,
     "end_time": "2022-05-19T14:37:44.904777",
     "exception": false,
     "start_time": "2022-05-19T14:37:44.885805",
     "status": "completed"
    },
    "tags": []
   },
   "source": [
    "# 3. Pull Raw Data"
   ]
  },
  {
   "cell_type": "code",
   "execution_count": 7,
   "id": "f207eaf3",
   "metadata": {
    "execution": {
     "iopub.execute_input": "2022-05-19T14:37:44.944790Z",
     "iopub.status.busy": "2022-05-19T14:37:44.944478Z",
     "iopub.status.idle": "2022-05-19T14:37:45.907361Z",
     "shell.execute_reply": "2022-05-19T14:37:45.906365Z"
    },
    "papermill": {
     "duration": 0.985264,
     "end_time": "2022-05-19T14:37:45.909754",
     "exception": false,
     "start_time": "2022-05-19T14:37:44.924490",
     "status": "completed"
    },
    "tags": []
   },
   "outputs": [],
   "source": [
    "sp500 = fred.get_series(series_id='SP500')"
   ]
  },
  {
   "cell_type": "markdown",
   "id": "024b645d",
   "metadata": {
    "papermill": {
     "duration": 0.018938,
     "end_time": "2022-05-19T14:37:45.947512",
     "exception": false,
     "start_time": "2022-05-19T14:37:45.928574",
     "status": "completed"
    },
    "tags": []
   },
   "source": [
    "# 4. Plot Raw data"
   ]
  },
  {
   "cell_type": "code",
   "execution_count": 8,
   "id": "822e7ba2",
   "metadata": {
    "execution": {
     "iopub.execute_input": "2022-05-19T14:37:45.988494Z",
     "iopub.status.busy": "2022-05-19T14:37:45.988159Z",
     "iopub.status.idle": "2022-05-19T14:37:46.352150Z",
     "shell.execute_reply": "2022-05-19T14:37:46.350853Z"
    },
    "papermill": {
     "duration": 0.388517,
     "end_time": "2022-05-19T14:37:46.354333",
     "exception": false,
     "start_time": "2022-05-19T14:37:45.965816",
     "status": "completed"
    },
    "tags": []
   },
   "outputs": [
    {
     "data": {
      "text/plain": [
       "<AxesSubplot:title={'center':'SP500'}>"
      ]
     },
     "execution_count": 8,
     "metadata": {},
     "output_type": "execute_result"
    },
    {
     "data": {
      "image/png": "[encoded data removed]",
      "text/plain": [
       "<Figure size 720x360 with 1 Axes>"
      ]
     },
     "metadata": {},
     "output_type": "display_data"
    }
   ],
   "source": [
    "sp500.plot(figsize=(10,5), title='SP500', lw=2)"
   ]
  },
  {
   "cell_type": "markdown",
   "id": "d7b352be",
   "metadata": {
    "papermill": {
     "duration": 0.019915,
     "end_time": "2022-05-19T14:37:46.394901",
     "exception": false,
     "start_time": "2022-05-19T14:37:46.374986",
     "status": "completed"
    },
    "tags": []
   },
   "source": [
    "# 5. Pull and Join Multiple Data Series"
   ]
  },
  {
   "cell_type": "code",
   "execution_count": 9,
   "id": "b75a3c34",
   "metadata": {
    "execution": {
     "iopub.execute_input": "2022-05-19T14:37:46.437845Z",
     "iopub.status.busy": "2022-05-19T14:37:46.436902Z",
     "iopub.status.idle": "2022-05-19T14:37:50.192932Z",
     "shell.execute_reply": "2022-05-19T14:37:50.191832Z"
    },
    "papermill": {
     "duration": 3.780613,
     "end_time": "2022-05-19T14:37:50.195808",
     "exception": false,
     "start_time": "2022-05-19T14:37:46.415195",
     "status": "completed"
    },
    "tags": []
   },
   "outputs": [],
   "source": [
    "unemp_results = fred.search('unemployment')"
   ]
  },
  {
   "cell_type": "code",
   "execution_count": 10,
   "id": "16c299b9",
   "metadata": {
    "execution": {
     "iopub.execute_input": "2022-05-19T14:37:50.240028Z",
     "iopub.status.busy": "2022-05-19T14:37:50.238898Z",
     "iopub.status.idle": "2022-05-19T14:37:50.843536Z",
     "shell.execute_reply": "2022-05-19T14:37:50.842920Z"
    },
    "papermill": {
     "duration": 0.629459,
     "end_time": "2022-05-19T14:37:50.846047",
     "exception": false,
     "start_time": "2022-05-19T14:37:50.216588",
     "status": "completed"
    },
    "tags": []
   },
   "outputs": [],
   "source": [
    "unrate = fred.get_series('UNRATE')"
   ]
  },
  {
   "cell_type": "code",
   "execution_count": 11,
   "id": "3a9afa21",
   "metadata": {
    "execution": {
     "iopub.execute_input": "2022-05-19T14:37:50.889077Z",
     "iopub.status.busy": "2022-05-19T14:37:50.888683Z",
     "iopub.status.idle": "2022-05-19T14:37:51.103281Z",
     "shell.execute_reply": "2022-05-19T14:37:51.102492Z"
    },
    "papermill": {
     "duration": 0.238587,
     "end_time": "2022-05-19T14:37:51.105451",
     "exception": false,
     "start_time": "2022-05-19T14:37:50.866864",
     "status": "completed"
    },
    "tags": []
   },
   "outputs": [
    {
     "data": {
      "text/plain": [
       "<AxesSubplot:>"
      ]
     },
     "execution_count": 11,
     "metadata": {},
     "output_type": "execute_result"
    },
    {
     "data": {
      "image/png": "[encoded data removed]",
      "text/plain": [
       "<Figure size 432x288 with 1 Axes>"
      ]
     },
     "metadata": {},
     "output_type": "display_data"
    }
   ],
   "source": [
    "unrate.plot()"
   ]
  },
  {
   "cell_type": "code",
   "execution_count": 12,
   "id": "02af18df",
   "metadata": {
    "execution": {
     "iopub.execute_input": "2022-05-19T14:37:51.151461Z",
     "iopub.status.busy": "2022-05-19T14:37:51.150718Z",
     "iopub.status.idle": "2022-05-19T14:37:51.182652Z",
     "shell.execute_reply": "2022-05-19T14:37:51.181610Z"
    },
    "papermill": {
     "duration": 0.057297,
     "end_time": "2022-05-19T14:37:51.184829",
     "exception": false,
     "start_time": "2022-05-19T14:37:51.127532",
     "status": "completed"
    },
    "tags": []
   },
   "outputs": [
    {
     "data": {
      "text/html": [
       "<div>\n",
       "<style scoped>\n",
       "    .dataframe tbody tr th:only-of-type {\n",
       "        vertical-align: middle;\n",
       "    }\n",
       "\n",
       "    .dataframe tbody tr th {\n",
       "        vertical-align: top;\n",
       "    }\n",
       "\n",
       "    .dataframe thead th {\n",
       "        text-align: right;\n",
       "    }\n",
       "</style>\n",
       "<table border=\"1\" class=\"dataframe\">\n",
       "  <thead>\n",
       "    <tr style=\"text-align: right;\">\n",
       "      <th></th>\n",
       "      <th>id</th>\n",
       "      <th>realtime_start</th>\n",
       "      <th>realtime_end</th>\n",
       "      <th>title</th>\n",
       "      <th>observation_start</th>\n",
       "      <th>observation_end</th>\n",
       "      <th>frequency</th>\n",
       "      <th>frequency_short</th>\n",
       "      <th>units</th>\n",
       "      <th>units_short</th>\n",
       "      <th>seasonal_adjustment</th>\n",
       "      <th>seasonal_adjustment_short</th>\n",
       "      <th>last_updated</th>\n",
       "      <th>popularity</th>\n",
       "      <th>notes</th>\n",
       "    </tr>\n",
       "    <tr>\n",
       "      <th>series id</th>\n",
       "      <th></th>\n",
       "      <th></th>\n",
       "      <th></th>\n",
       "      <th></th>\n",
       "      <th></th>\n",
       "      <th></th>\n",
       "      <th></th>\n",
       "      <th></th>\n",
       "      <th></th>\n",
       "      <th></th>\n",
       "      <th></th>\n",
       "      <th></th>\n",
       "      <th></th>\n",
       "      <th></th>\n",
       "      <th></th>\n",
       "    </tr>\n",
       "  </thead>\n",
       "  <tbody>\n",
       "    <tr>\n",
       "      <th>UNRATE</th>\n",
       "      <td>UNRATE</td>\n",
       "      <td>2022-05-19</td>\n",
       "      <td>2022-05-19</td>\n",
       "      <td>Unemployment Rate</td>\n",
       "      <td>1948-01-01</td>\n",
       "      <td>2022-04-01</td>\n",
       "      <td>Monthly</td>\n",
       "      <td>M</td>\n",
       "      <td>Percent</td>\n",
       "      <td>%</td>\n",
       "      <td>Seasonally Adjusted</td>\n",
       "      <td>SA</td>\n",
       "      <td>2022-05-06 07:44:02-05:00</td>\n",
       "      <td>93</td>\n",
       "      <td>The unemployment rate represents the number of...</td>\n",
       "    </tr>\n",
       "    <tr>\n",
       "      <th>UNRATENSA</th>\n",
       "      <td>UNRATENSA</td>\n",
       "      <td>2022-05-19</td>\n",
       "      <td>2022-05-19</td>\n",
       "      <td>Unemployment Rate</td>\n",
       "      <td>1948-01-01</td>\n",
       "      <td>2022-04-01</td>\n",
       "      <td>Monthly</td>\n",
       "      <td>M</td>\n",
       "      <td>Percent</td>\n",
       "      <td>%</td>\n",
       "      <td>Not Seasonally Adjusted</td>\n",
       "      <td>NSA</td>\n",
       "      <td>2022-05-06 07:43:03-05:00</td>\n",
       "      <td>55</td>\n",
       "      <td>The unemployment rate represents the number of...</td>\n",
       "    </tr>\n",
       "    <tr>\n",
       "      <th>NROU</th>\n",
       "      <td>NROU</td>\n",
       "      <td>2022-05-19</td>\n",
       "      <td>2022-05-19</td>\n",
       "      <td>Noncyclical Rate of Unemployment</td>\n",
       "      <td>1949-01-01</td>\n",
       "      <td>2031-10-01</td>\n",
       "      <td>Quarterly</td>\n",
       "      <td>Q</td>\n",
       "      <td>Percent</td>\n",
       "      <td>%</td>\n",
       "      <td>Not Seasonally Adjusted</td>\n",
       "      <td>NSA</td>\n",
       "      <td>2021-02-01 14:37:05-06:00</td>\n",
       "      <td>70</td>\n",
       "      <td>Starting with the July, 2021 report: An Update...</td>\n",
       "    </tr>\n",
       "    <tr>\n",
       "      <th>UNEMPLOY</th>\n",
       "      <td>UNEMPLOY</td>\n",
       "      <td>2022-05-19</td>\n",
       "      <td>2022-05-19</td>\n",
       "      <td>Unemployment Level</td>\n",
       "      <td>1948-01-01</td>\n",
       "      <td>2022-04-01</td>\n",
       "      <td>Monthly</td>\n",
       "      <td>M</td>\n",
       "      <td>Thousands of Persons</td>\n",
       "      <td>Thous. of Persons</td>\n",
       "      <td>Seasonally Adjusted</td>\n",
       "      <td>SA</td>\n",
       "      <td>2022-05-06 07:44:10-05:00</td>\n",
       "      <td>66</td>\n",
       "      <td>The series comes from the 'Current Population ...</td>\n",
       "    </tr>\n",
       "    <tr>\n",
       "      <th>LNS14000006</th>\n",
       "      <td>LNS14000006</td>\n",
       "      <td>2022-05-19</td>\n",
       "      <td>2022-05-19</td>\n",
       "      <td>Unemployment Rate - Black or African American</td>\n",
       "      <td>1972-01-01</td>\n",
       "      <td>2022-04-01</td>\n",
       "      <td>Monthly</td>\n",
       "      <td>M</td>\n",
       "      <td>Percent</td>\n",
       "      <td>%</td>\n",
       "      <td>Seasonally Adjusted</td>\n",
       "      <td>SA</td>\n",
       "      <td>2022-05-06 07:44:05-05:00</td>\n",
       "      <td>68</td>\n",
       "      <td>The series comes from the 'Current Population ...</td>\n",
       "    </tr>\n",
       "    <tr>\n",
       "      <th>...</th>\n",
       "      <td>...</td>\n",
       "      <td>...</td>\n",
       "      <td>...</td>\n",
       "      <td>...</td>\n",
       "      <td>...</td>\n",
       "      <td>...</td>\n",
       "      <td>...</td>\n",
       "      <td>...</td>\n",
       "      <td>...</td>\n",
       "      <td>...</td>\n",
       "      <td>...</td>\n",
       "      <td>...</td>\n",
       "      <td>...</td>\n",
       "      <td>...</td>\n",
       "      <td>...</td>\n",
       "    </tr>\n",
       "    <tr>\n",
       "      <th>SPIURN</th>\n",
       "      <td>SPIURN</td>\n",
       "      <td>2022-05-19</td>\n",
       "      <td>2022-05-19</td>\n",
       "      <td>Unemployment Rate in Springfield, MO (MSA)</td>\n",
       "      <td>1990-01-01</td>\n",
       "      <td>2022-03-01</td>\n",
       "      <td>Monthly</td>\n",
       "      <td>M</td>\n",
       "      <td>Percent</td>\n",
       "      <td>%</td>\n",
       "      <td>Not Seasonally Adjusted</td>\n",
       "      <td>NSA</td>\n",
       "      <td>2022-04-27 10:08:10-05:00</td>\n",
       "      <td>10</td>\n",
       "      <td>None</td>\n",
       "    </tr>\n",
       "    <tr>\n",
       "      <th>LNS14000025</th>\n",
       "      <td>LNS14000025</td>\n",
       "      <td>2022-05-19</td>\n",
       "      <td>2022-05-19</td>\n",
       "      <td>Unemployment Rate - 20 Yrs. &amp; over, Men</td>\n",
       "      <td>1948-01-01</td>\n",
       "      <td>2022-04-01</td>\n",
       "      <td>Monthly</td>\n",
       "      <td>M</td>\n",
       "      <td>Percent</td>\n",
       "      <td>%</td>\n",
       "      <td>Seasonally Adjusted</td>\n",
       "      <td>SA</td>\n",
       "      <td>2022-05-06 07:44:52-05:00</td>\n",
       "      <td>10</td>\n",
       "      <td>The series comes from the 'Current Population ...</td>\n",
       "    </tr>\n",
       "    <tr>\n",
       "      <th>LRUNTTTTILM156S</th>\n",
       "      <td>LRUNTTTTILM156S</td>\n",
       "      <td>2022-05-19</td>\n",
       "      <td>2022-05-19</td>\n",
       "      <td>Unemployment Rate: Aged 15 and Over: All Perso...</td>\n",
       "      <td>2012-01-01</td>\n",
       "      <td>2022-03-01</td>\n",
       "      <td>Monthly</td>\n",
       "      <td>M</td>\n",
       "      <td>Percent</td>\n",
       "      <td>%</td>\n",
       "      <td>Seasonally Adjusted</td>\n",
       "      <td>SA</td>\n",
       "      <td>2022-05-12 09:21:09-05:00</td>\n",
       "      <td>9</td>\n",
       "      <td>OECD descriptor ID: LRUNTTTT OECD unit ID: STS...</td>\n",
       "    </tr>\n",
       "    <tr>\n",
       "      <th>LRHUTTTTPLM156S</th>\n",
       "      <td>LRHUTTTTPLM156S</td>\n",
       "      <td>2022-05-19</td>\n",
       "      <td>2022-05-19</td>\n",
       "      <td>Harmonized Unemployment Rate: Total: All Perso...</td>\n",
       "      <td>1997-01-01</td>\n",
       "      <td>2022-03-01</td>\n",
       "      <td>Monthly</td>\n",
       "      <td>M</td>\n",
       "      <td>Percent</td>\n",
       "      <td>%</td>\n",
       "      <td>Seasonally Adjusted</td>\n",
       "      <td>SA</td>\n",
       "      <td>2022-05-12 09:17:13-05:00</td>\n",
       "      <td>8</td>\n",
       "      <td>OECD descriptor ID: LRHUTTTT OECD unit ID: STS...</td>\n",
       "    </tr>\n",
       "    <tr>\n",
       "      <th>LNU04000025</th>\n",
       "      <td>LNU04000025</td>\n",
       "      <td>2022-05-19</td>\n",
       "      <td>2022-05-19</td>\n",
       "      <td>Unemployment Rate - 20 Yrs. &amp; over, Men</td>\n",
       "      <td>1948-01-01</td>\n",
       "      <td>2022-04-01</td>\n",
       "      <td>Monthly</td>\n",
       "      <td>M</td>\n",
       "      <td>Percent</td>\n",
       "      <td>%</td>\n",
       "      <td>Not Seasonally Adjusted</td>\n",
       "      <td>NSA</td>\n",
       "      <td>2022-05-06 07:47:23-05:00</td>\n",
       "      <td>5</td>\n",
       "      <td>The series comes from the 'Current Population ...</td>\n",
       "    </tr>\n",
       "  </tbody>\n",
       "</table>\n",
       "<p>1000 rows × 15 columns</p>\n",
       "</div>"
      ],
      "text/plain": [
       "                              id realtime_start realtime_end  \\\n",
       "series id                                                      \n",
       "UNRATE                    UNRATE     2022-05-19   2022-05-19   \n",
       "UNRATENSA              UNRATENSA     2022-05-19   2022-05-19   \n",
       "NROU                        NROU     2022-05-19   2022-05-19   \n",
       "UNEMPLOY                UNEMPLOY     2022-05-19   2022-05-19   \n",
       "LNS14000006          LNS14000006     2022-05-19   2022-05-19   \n",
       "...                          ...            ...          ...   \n",
       "SPIURN                    SPIURN     2022-05-19   2022-05-19   \n",
       "LNS14000025          LNS14000025     2022-05-19   2022-05-19   \n",
       "LRUNTTTTILM156S  LRUNTTTTILM156S     2022-05-19   2022-05-19   \n",
       "LRHUTTTTPLM156S  LRHUTTTTPLM156S     2022-05-19   2022-05-19   \n",
       "LNU04000025          LNU04000025     2022-05-19   2022-05-19   \n",
       "\n",
       "                                                             title  \\\n",
       "series id                                                            \n",
       "UNRATE                                           Unemployment Rate   \n",
       "UNRATENSA                                        Unemployment Rate   \n",
       "NROU                              Noncyclical Rate of Unemployment   \n",
       "UNEMPLOY                                        Unemployment Level   \n",
       "LNS14000006          Unemployment Rate - Black or African American   \n",
       "...                                                            ...   \n",
       "SPIURN                  Unemployment Rate in Springfield, MO (MSA)   \n",
       "LNS14000025                Unemployment Rate - 20 Yrs. & over, Men   \n",
       "LRUNTTTTILM156S  Unemployment Rate: Aged 15 and Over: All Perso...   \n",
       "LRHUTTTTPLM156S  Harmonized Unemployment Rate: Total: All Perso...   \n",
       "LNU04000025                Unemployment Rate - 20 Yrs. & over, Men   \n",
       "\n",
       "                observation_start observation_end  frequency frequency_short  \\\n",
       "series id                                                                      \n",
       "UNRATE                 1948-01-01      2022-04-01    Monthly               M   \n",
       "UNRATENSA              1948-01-01      2022-04-01    Monthly               M   \n",
       "NROU                   1949-01-01      2031-10-01  Quarterly               Q   \n",
       "UNEMPLOY               1948-01-01      2022-04-01    Monthly               M   \n",
       "LNS14000006            1972-01-01      2022-04-01    Monthly               M   \n",
       "...                           ...             ...        ...             ...   \n",
       "SPIURN                 1990-01-01      2022-03-01    Monthly               M   \n",
       "LNS14000025            1948-01-01      2022-04-01    Monthly               M   \n",
       "LRUNTTTTILM156S        2012-01-01      2022-03-01    Monthly               M   \n",
       "LRHUTTTTPLM156S        1997-01-01      2022-03-01    Monthly               M   \n",
       "LNU04000025            1948-01-01      2022-04-01    Monthly               M   \n",
       "\n",
       "                                units        units_short  \\\n",
       "series id                                                  \n",
       "UNRATE                        Percent                  %   \n",
       "UNRATENSA                     Percent                  %   \n",
       "NROU                          Percent                  %   \n",
       "UNEMPLOY         Thousands of Persons  Thous. of Persons   \n",
       "LNS14000006                   Percent                  %   \n",
       "...                               ...                ...   \n",
       "SPIURN                        Percent                  %   \n",
       "LNS14000025                   Percent                  %   \n",
       "LRUNTTTTILM156S               Percent                  %   \n",
       "LRHUTTTTPLM156S               Percent                  %   \n",
       "LNU04000025                   Percent                  %   \n",
       "\n",
       "                     seasonal_adjustment seasonal_adjustment_short  \\\n",
       "series id                                                            \n",
       "UNRATE               Seasonally Adjusted                        SA   \n",
       "UNRATENSA        Not Seasonally Adjusted                       NSA   \n",
       "NROU             Not Seasonally Adjusted                       NSA   \n",
       "UNEMPLOY             Seasonally Adjusted                        SA   \n",
       "LNS14000006          Seasonally Adjusted                        SA   \n",
       "...                                  ...                       ...   \n",
       "SPIURN           Not Seasonally Adjusted                       NSA   \n",
       "LNS14000025          Seasonally Adjusted                        SA   \n",
       "LRUNTTTTILM156S      Seasonally Adjusted                        SA   \n",
       "LRHUTTTTPLM156S      Seasonally Adjusted                        SA   \n",
       "LNU04000025      Not Seasonally Adjusted                       NSA   \n",
       "\n",
       "                              last_updated popularity  \\\n",
       "series id                                               \n",
       "UNRATE           2022-05-06 07:44:02-05:00         93   \n",
       "UNRATENSA        2022-05-06 07:43:03-05:00         55   \n",
       "NROU             2021-02-01 14:37:05-06:00         70   \n",
       "UNEMPLOY         2022-05-06 07:44:10-05:00         66   \n",
       "LNS14000006      2022-05-06 07:44:05-05:00         68   \n",
       "...                                    ...        ...   \n",
       "SPIURN           2022-04-27 10:08:10-05:00         10   \n",
       "LNS14000025      2022-05-06 07:44:52-05:00         10   \n",
       "LRUNTTTTILM156S  2022-05-12 09:21:09-05:00          9   \n",
       "LRHUTTTTPLM156S  2022-05-12 09:17:13-05:00          8   \n",
       "LNU04000025      2022-05-06 07:47:23-05:00          5   \n",
       "\n",
       "                                                             notes  \n",
       "series id                                                           \n",
       "UNRATE           The unemployment rate represents the number of...  \n",
       "UNRATENSA        The unemployment rate represents the number of...  \n",
       "NROU             Starting with the July, 2021 report: An Update...  \n",
       "UNEMPLOY         The series comes from the 'Current Population ...  \n",
       "LNS14000006      The series comes from the 'Current Population ...  \n",
       "...                                                            ...  \n",
       "SPIURN                                                        None  \n",
       "LNS14000025      The series comes from the 'Current Population ...  \n",
       "LRUNTTTTILM156S  OECD descriptor ID: LRUNTTTT OECD unit ID: STS...  \n",
       "LRHUTTTTPLM156S  OECD descriptor ID: LRHUTTTT OECD unit ID: STS...  \n",
       "LNU04000025      The series comes from the 'Current Population ...  \n",
       "\n",
       "[1000 rows x 15 columns]"
      ]
     },
     "execution_count": 12,
     "metadata": {},
     "output_type": "execute_result"
    }
   ],
   "source": [
    "unemp_results"
   ]
  },
  {
   "cell_type": "code",
   "execution_count": null,
   "id": "240c4ec6",
   "metadata": {
    "execution": {
     "iopub.execute_input": "2022-05-19T14:27:21.598742Z",
     "iopub.status.busy": "2022-05-19T14:27:21.598433Z",
     "iopub.status.idle": "2022-05-19T14:27:21.612958Z",
     "shell.execute_reply": "2022-05-19T14:27:21.612366Z",
     "shell.execute_reply.started": "2022-05-19T14:27:21.598709Z"
    },
    "papermill": {
     "duration": 0.022883,
     "end_time": "2022-05-19T14:37:51.230913",
     "exception": false,
     "start_time": "2022-05-19T14:37:51.208030",
     "status": "completed"
    },
    "tags": []
   },
   "outputs": [],
   "source": []
  }
 ],
 "metadata": {
  "kernelspec": {
   "display_name": "Python 3",
   "language": "python",
   "name": "python3"
  },
  "language_info": {
   "codemirror_mode": {
    "name": "ipython",
    "version": 3
   },
   "file_extension": ".py",
   "mimetype": "text/x-python",
   "name": "python",
   "nbconvert_exporter": "python",
   "pygments_lexer": "ipython3",
   "version": "3.7.12"
  },
  "papermill": {
   "default_parameters": {},
   "duration": 34.765906,
   "end_time": "2022-05-19T14:37:52.078430",
   "environment_variables": {},
   "exception": null,
   "input_path": "__notebook__.ipynb",
   "output_path": "__notebook__.ipynb",
   "parameters": {},
   "start_time": "2022-05-19T14:37:17.312524",
   "version": "2.3.4"
  }
 },
 "nbformat": 4,
 "nbformat_minor": 5
}
